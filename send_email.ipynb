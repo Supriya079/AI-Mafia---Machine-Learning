{
 "cells": [
  {
   "cell_type": "code",
   "execution_count": 1,
   "id": "96f7dbd6",
   "metadata": {},
   "outputs": [],
   "source": [
    "import smtplib\n",
    "import getpass\n",
    "from email.mime.text import MIMEText"
   ]
  },
  {
   "cell_type": "code",
   "execution_count": 4,
   "id": "158cfa89",
   "metadata": {},
   "outputs": [],
   "source": [
    "def send_mail():\n",
    "    sender_address = 'supriyac.79official@gmail.com'\n",
    "    print('Password : ')\n",
    "    password = getpass.getpass()\n",
    "    subject = 'AI - Mafia Machine Learning'\n",
    "    msg = '''\n",
    "        Machine Learning\n",
    "        Machine learning is a sub-category of artificial intelligence and effectively automates the process of analytical model building and allows machines to adapt to new scenarios independently.\n",
    "        \n",
    "        Thank You!\n",
    "        Supriya Chaudhari\n",
    "    '''\n",
    "    #server initialization\n",
    "    server = smtplib.SMTP('smtp.gmail.com',587)\n",
    "    server.starttls()\n",
    "    server.login(sender_address,password)\n",
    "    recipients = 'supriyac.79official@gmail.com'\n",
    "\n",
    "    #draft my message body\n",
    "    msg = MIMEText(msg)\n",
    "    msg['Subject'] = subject\n",
    "    msg['From'] = sender_address\n",
    "    #msg['To'] = \", \".join(recipients)\n",
    "    msg['To'] = 'supriyac.79official@gmail.com'\n",
    "    #msg.set_param('importance','high value')\n",
    "\n",
    "\n",
    "    server.sendmail(sender_address, recipients, msg.as_string())\n",
    "    print(\"Mail Sent...!\")"
   ]
  },
  {
   "cell_type": "code",
   "execution_count": 5,
   "id": "b9fc2424",
   "metadata": {},
   "outputs": [
    {
     "name": "stdout",
     "output_type": "stream",
     "text": [
      "Password : \n",
      "········\n",
      "Mail Sent...!\n"
     ]
    }
   ],
   "source": [
    "send_mail()"
   ]
  },
  {
   "cell_type": "code",
   "execution_count": null,
   "id": "9257ce13",
   "metadata": {},
   "outputs": [],
   "source": []
  }
 ],
 "metadata": {
  "kernelspec": {
   "display_name": "Python 3 (ipykernel)",
   "language": "python",
   "name": "python3"
  },
  "language_info": {
   "codemirror_mode": {
    "name": "ipython",
    "version": 3
   },
   "file_extension": ".py",
   "mimetype": "text/x-python",
   "name": "python",
   "nbconvert_exporter": "python",
   "pygments_lexer": "ipython3",
   "version": "3.9.7"
  }
 },
 "nbformat": 4,
 "nbformat_minor": 5
}
